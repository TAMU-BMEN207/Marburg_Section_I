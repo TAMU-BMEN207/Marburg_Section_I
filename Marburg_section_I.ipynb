{
 "cells": [
  {
   "cell_type": "markdown",
   "id": "c346c7bf",
   "metadata": {},
   "source": [
    "<h1 style=\"color:#B61919 ; text-align:center;\">Marburg, Section I</h1>"
   ]
  },
  {
   "cell_type": "markdown",
   "id": "62589351",
   "metadata": {},
   "source": [
    "<h6>@author: annice</h6>\n",
    "<h6>Fall 2021</h6>\n",
    "<h6>Texas A&M University</h6>"
   ]
  },
  {
   "cell_type": "markdown",
   "id": "9abcc4f2",
   "metadata": {},
   "source": [
    "<h1>Marburg, Germany, 1967</h1>\n",
    "<br>\n",
    "In the summer of 1967, three German lab workers fell ill with a previously unknown infection. Meanwhile, a similar case was reported in Belgrade, Yugoslavia (currently Serbia). The infection eventually spread to 31 people either working in pharmaceutical labs or the spouses of the infected lab workers in three different locations in Europe; Marburg, Frankfurt, and Belgrade. The illness started with muscle aches and mild fever and was later accompanied by nausea, enlarged spleens, and inflamed lymph nodes. Within a week, the patients' white blood cells, platelets, and clotting factors would suddenly drop, and microscopic blockages were observed in their capillaries with stagnant red blood cells unable to carry oxygen to organs. As a result, their skins became red, extremely sensitive to touch, and their nerves were responding with extreme pain. By the tenth day, patients were vomiting blood, and by the third week, their skins were peeling off as their cells which were starving for oxygen and nutrients, were dying. Doctors described patients as bleeding to death. Eventually, 7 out of the 31 infected workers died of the illness, but within three months, German scientists isolated and identified the infecting agent as a virus named after the city where the first case appeared \"Marburg\" virus (Garrett, 1995). \n",
    "<br><br>\n",
    "\n",
    "<a href=\"https://livingitwell.net/\">\n",
    "         <img style = \"border-radius: 50%;\" alt=\"Monkey\" src=\"https://livingitwell.net/wp-content/uploads/2017/08/Marburg-Virus.jpg\" width=300\" height=\"300\">\n",
    "      </a>\n",
    "<br><br>                                                                                                  \n",
    "The virus was traced back to a species of African green monkeys transported from Uganda to three European cities where the labs were located; Marburg, Frankfurt, and Belgrade. 49 out of the 99 monkeys had died in this journey. Monkeys were transported for extracting their kidney cells and culturing polio vaccine. There were no reported cases of the Marburg virus until 1976, when a twenty-year-old Australian draftsman and his nineteen-year-old girlfriend went hitchhiking in Zimbabwe. The young man fell ill and was admitted to a hospital in Johannesburg in South Africa. Soon after being admitted to the hospital, one of the nurses fell ill. The young man died, and a few days later, his girlfriend showed symptoms of the virus. Luckily both the nurse and the young woman were treated with an anti-coagulatory agent called heparin and survived (Garrett, 1995). Almost a decade later, two cases of the Marburg virus were reported in Koltsovo, Russia. The two cases were associated with a lab in which| reportedly the Soviet Union was working on the Marburg virus in a biological weapons program during the cold war(Alibek & Handelman, 2000)(Note this has nothing to do with the current COVID-19 pandemic). \n",
    "<br><br>\n",
    "<a href=\"https://upload.wikimedia.org/\">\n",
    "         <img style = \"border-radius: 50%;\" alt=\"koltsovo\" src=\"https://upload.wikimedia.org/wikipedia/commons/f/f4/%D0%91%D0%B8%D0%BE%D1%82%D0%B5%D1%85%D0%BD%D0%BE%D0%BF%D0%B0%D1%80%D0%BA%2C_%D0%9A%D0%BE%D0%BB%D1%8C%D1%86%D0%BE%D0%B2%D0%BE_01.jpg\" width=300\" height=\"300\">\n",
    "      </a>\n",
    "<br><br>\n",
    "Since then, there were sporadic outbreaks of the Marburg virus in the world with more than 90% fatality rate with the two notable outbreaks, one in Angola and the other in Congo, differing in the sense that the outbreak in Angola started with one person contracting a virus and transmitting it to others. In contrast, different variants of the virus were identified in the Congo outbreak (Brauburger et al., 2012). \n",
    "The virus has repeatedly infected people in East Africa, particularly the country of Uganda. However, in August of 2021, a new case has been reported in Guinea, which is located in West Africa (Reuters, 2021). How did this virus get to West Africa? Is this going to be the next pandemic?! What if a variant of this virus becomes airborne?! The answer is we have no idea. \n",
    "<br><br><em><strong>References</strong>: <br><br>\n",
    "    Alibek, K., &amp; Handelman, S. (2000). Biohazard: The chilling true story of the largest covert biological weapons program in the world-told from the inside by the man who ran it. A Delta Book. <br>\n",
    "    Brauburger, K., Hume, A. J., Mühlberger, E., &amp; Olejnik, J. (2012). Forty-Five years of Marburg virus research. Viruses, 4(10), 1878–1927. <br>\n",
    "    Garrett, L. (1995). Coming plague Pt. 1: Newly emerging diseases in a world out of balance. Penguin Publishing Group. (Great book. It's free on Kindle) <br>\n",
    "    Reuters. (2021, August 10). Guinea records West Africa's first Marburg virus death, who says. NBCNews.com. https://www.nbcnews.com/health/health-news/guinea-records-west-africa-s-first-marburg-virus-death-who-n1276454. \n",
    "\n",
    "</em>\n",
    "<br>\n",
    "\n",
    "<h1>Structure of the virus</h1>\n",
    "<br>\n",
    "Marburg virus is a filovirus and in the same family as the Ebola virus. It consists of seven structural proteins. A helical ribonucleocapsid made of a genomic RNA wrapping around a polymer of nucleoproteins is located at its center. An RNA-dependent polymerase, polymerase cofactor, and transcription activator are associated with the ribonucleoprotein. The ribonucleoprotein is located in a matrix consisting of the minor and major matrix proteins. All of these particles are surrounded by a lipid membrane that anchors a glycoprotein.\n",
    "<br><br>\n",
    "\n",
    "<a href=\"http://2.bp.blogspot.com/\">\n",
    "         <img style = \"border-radius: 5%;\" alt=\"koltsovo\" src=\"http://2.bp.blogspot.com/-pyL4iqTKla4/ULzzeP9KyyI/AAAAAAAAOWE/WZO2LZLmNiY/s1600/Filovirus_virion.jpg\" width=500\" height=\"500\">\n",
    "      </a>\n",
    "\n",
    "In this example, we take a look at the nucleotide sequence of the Marburg virus, and compare it to the Ebola virus to see how similar they are in DNA and protein sequence. The fasta files provided in the directory are nucleotide sequences of the Ebola virus and the only complete sequence of the Marburg virus available on NCBI. To download the files yourself or download the sequence of other viruses head over to the <a href=\"https://www.ncbi.nlm.nih.gov/labs/virus/vssi/#/virus?SeqType_s=Nucleotide&VirusLineage_ss=Ebolavirus,%20taxid:186536\">virus section of the NCBI website</a>\n",
    "<br>The sequences we look at in this example are id DQ447653 for the marburg virus and MT583341 for the Ebolavirus downloaded from the NCBI.\n",
    "\n",
    "<br>\n",
    "<em><strong>References:</strong><br>Marburg hemorrhagic fever. Infection Landscapes. (n.d.). http://www.infectionlandscapes.org/2012/12/marburg-hemorrhagic-fever.html. </em>\n"
   ]
  },
  {
   "cell_type": "markdown",
   "id": "d6fe9479",
   "metadata": {},
   "source": [
    "<h2>Section I: Variables </h2><br>\n",
    "First let's take a look at the Marburg virus and Ebola virus sequences."
   ]
  },
  {
   "cell_type": "code",
   "execution_count": 5,
   "id": "aa314e8b",
   "metadata": {},
   "outputs": [],
   "source": [
    "#Load the file\n",
    "file_name = \"marburg-2006-nt.fasta\"\n",
    "with open(file_name, 'r') as file:\n",
    "  #next(file)\n",
    "  seq_marburg = file.read().replace('\\n', '')"
   ]
  },
  {
   "cell_type": "code",
   "execution_count": 6,
   "id": "c8066472",
   "metadata": {},
   "outputs": [
    {
     "data": {
      "text/plain": [
       "'>DQ447653.1 |Lake Victoria marburgvirus - Angola2005 strain Ang1379c, complete genomeAGACACACAAAAACAAGAGATGATGATTTTGTGTATCATATAAATAAAGAAGAATATTAACATTGACATTGAGACTTGTCAGTCTGTTAATATTCTTGAAGAGATGGATTTACATAGTTTGTTAGAATTGGGTACAAAACCTACTGCTCCTCATGTTCGTAATAAGAAGGTGATATTATTCGACACAAATCATCAGGTTAGTATCTGTAATCAGATAATAGATGCAATAAACTCAGGGATTGATCTTGGAGATCTTCTAGAAGGGGGTTTGCTGACGTTGTGTGTTGAACACTACTATAATTCCGACAAAGATAA'"
      ]
     },
     "execution_count": 6,
     "metadata": {},
     "output_type": "execute_result"
    }
   ],
   "source": [
    "#Let's take a look at what is inside the file\n",
    "seq_marburg[0:400]\n"
   ]
  },
  {
   "cell_type": "code",
   "execution_count": 7,
   "id": "72922096",
   "metadata": {},
   "outputs": [
    {
     "data": {
      "text/plain": [
       "'AGACACACAAAAACAAGAGATGATGATTTTGTGTATCATATAAATAAAGAAGAATATTAACATTGACATTGAGACTTGTCAGTCTGTTAATATTCTTGAAGAGATGGATTTACATAGTTTGTTAGAATTGGGTACAAAACCTACTGCTCCTCATGTTCGTAATAAGAAGGTGATATTATTCGACACAAATCATCAGGTTAGTATCTGTAATCAGATAATAGATGCAATAAACTCAGGGATTGATCTTGGAGATCTTCTAGAAGGGGGTTTGCTGACGTTGTGTGTTGAACACTACTATAATTCCGACAAAGATAAATTCAACACAAGTCCTATCGCAAAATACTTGCGTGATGCGGGTTATGAATTTGATGTCATCAAGAATGCAGATGCAACCCGCTTT'"
      ]
     },
     "execution_count": 7,
     "metadata": {},
     "output_type": "execute_result"
    }
   ],
   "source": [
    "#Step1 : get rid of the information coming before the sequence\n",
    "#Solution: The sequence comes after the 'genome' word, therefore we can find the index of 'genome'\n",
    "#and extract what comes after it.\n",
    "e_index = seq_marburg.index(\"genome\") + len(\"genome\")\n",
    "seq_marburg = seq_marburg[e_index:]\n",
    "seq_marburg[0:400]"
   ]
  },
  {
   "cell_type": "markdown",
   "id": "90da9653",
   "metadata": {},
   "source": [
    "# Compositional Biases in Viruses"
   ]
  },
  {
   "cell_type": "code",
   "execution_count": 8,
   "id": "815a6b27",
   "metadata": {},
   "outputs": [
    {
     "name": "stdout",
     "output_type": "stream",
     "text": [
      "sequence composition of the marburg virus is as follows: \n",
      "A:32.25975386226761%\n",
      "C:19.711966483372613%\n",
      "G:18.690756742602776%\n",
      "T:29.337522911757002%\n"
     ]
    }
   ],
   "source": [
    "#Step 2: Let's look at the nucleotide composition of the sequence\n",
    "#Find the ATG codon\n",
    "start_index = seq_marburg.index(\"ATG\")\n",
    "#Retrieve the sequence coming after it\n",
    "seq_marburg = seq_marburg[start_index:]\n",
    "#calculate percentages\n",
    "perc_A = seq_marburg.count(\"A\")/len(seq_marburg)*100\n",
    "perc_T = seq_marburg.count(\"T\")/len(seq_marburg)*100\n",
    "perc_C = seq_marburg.count(\"C\")/len(seq_marburg)*100\n",
    "perc_G = seq_marburg.count(\"G\")/len(seq_marburg)*100\n",
    "\n",
    "print(f\"sequence composition of the marburg virus is as follows: \\nA:{perc_A}%\\nC:{perc_C}%\\nG:{perc_G}%\\nT:{perc_T}%\")"
   ]
  },
  {
   "cell_type": "markdown",
   "id": "980ea44e",
   "metadata": {},
   "source": [
    "The vast majority of viruses have a bias towards A nucleotides and have lower number of C and G nucleotides. A is a weak RNA binder thus more A nucleotides result in less secondary RNA structure which assist viruses in dodging the host's defense mechanism and there is translational selection towards certain codons which casues this bias in the sequence. This is typically a selection towards amino acids with A nucleotides (Kustin & Stern, 2020).\n",
    "\n",
    "<em><strong>Reference:</strong><br>Kustin, T., &amp; Stern, A. (2020). Biased mutation and selection in RNA VIRUSES. Molecular Biology and Evolution, 38(2), 575–588. https://doi.org/10.1093/molbev/msaa247 </em>"
   ]
  },
  {
   "cell_type": "markdown",
   "id": "6350f691",
   "metadata": {},
   "source": [
    "# PAUSE\n",
    "<br>\n",
    "Follow the same steps with the ebola virus <br>\n",
    "step 1: Open the file containing the ebola sequence <br>\n",
    "step 2: Remove the information given before the sequence <br>\n",
    "step 3: Find the Start Codon. Separate what comes after it and determine the nucleotide composition of the sequence\n",
    "<br><br>"
   ]
  },
  {
   "cell_type": "code",
   "execution_count": 10,
   "id": "fb76b70e",
   "metadata": {},
   "outputs": [],
   "source": [
    "#Fill Here\n",
    "#Load the file\n",
    "file_name = \"ebola-1995-nt.fasta\"\n",
    "with open(file_name, 'r') as file:\n",
    "  seq_ebola = file.read().replace('\\n', '')\n",
    "#\n",
    "#\n",
    "#\n",
    "#"
   ]
  },
  {
   "cell_type": "markdown",
   "id": "9fdcd7af",
   "metadata": {},
   "source": [
    "# Solution"
   ]
  },
  {
   "cell_type": "code",
   "execution_count": 12,
   "id": "6b652a87",
   "metadata": {},
   "outputs": [
    {
     "name": "stdout",
     "output_type": "stream",
     "text": [
      "sequence composition of the ebola virus is as follows: \n",
      "A:31.91342999259181%\n",
      "C:21.383215155042862%\n",
      "G:19.748121494338026%\n",
      "T:26.955233358027304%\n"
     ]
    }
   ],
   "source": [
    "#Load the file\n",
    "\n",
    "\n",
    "file_name = \"ebola-1995-nt.fasta\"\n",
    "with open(file_name, 'r') as file:\n",
    "  seq_ebola = file.read().replace('\\n', '')\n",
    "    \n",
    "e_index = seq_ebola.index(\"genome\") + len(\"genome\")\n",
    "seq_ebola = seq_ebola[e_index:]\n",
    "\n",
    "#Find the ATG codon\n",
    "start_index = seq_ebola.index(\"ATG\")\n",
    "#Retrieve the sequence coming after it\n",
    "seq_ebola = seq_ebola[start_index:]\n",
    "\n",
    "perc_A = seq_ebola.count(\"A\")/len(seq_ebola)*100\n",
    "perc_T = seq_ebola.count(\"T\")/len(seq_ebola)*100\n",
    "perc_C = seq_ebola.count(\"C\")/len(seq_ebola)*100\n",
    "perc_G = seq_ebola.count(\"G\")/len(seq_ebola)*100\n",
    "\n",
    "print(f\"sequence composition of the ebola virus is as follows: \\nA:{perc_A}%\\nC:{perc_C}%\\nG:{perc_G}%\\nT:{perc_T}%\")  \n",
    "    "
   ]
  }
 ],
 "metadata": {
  "kernelspec": {
   "display_name": "Python 3",
   "language": "python",
   "name": "python3"
  },
  "language_info": {
   "codemirror_mode": {
    "name": "ipython",
    "version": 3
   },
   "file_extension": ".py",
   "mimetype": "text/x-python",
   "name": "python",
   "nbconvert_exporter": "python",
   "pygments_lexer": "ipython3",
   "version": "3.8.8"
  }
 },
 "nbformat": 4,
 "nbformat_minor": 5
}
